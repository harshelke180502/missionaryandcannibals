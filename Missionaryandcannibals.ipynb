{
  "nbformat": 4,
  "nbformat_minor": 0,
  "metadata": {
    "colab": {
      "provenance": []
    },
    "kernelspec": {
      "name": "python3",
      "display_name": "Python 3"
    },
    "language_info": {
      "name": "python"
    }
  },
  "cells": [
    {
      "cell_type": "code",
      "execution_count": null,
      "metadata": {
        "id": "7e2ti8H6UFsX"
      },
      "outputs": [],
      "source": []
    },
    {
      "cell_type": "code",
      "metadata": {
        "colab": {
          "base_uri": "https://localhost:8080/"
        },
        "outputId": "868e2087-bc45-4bc2-dc0b-313665e78afa",
        "id": "qCNH7HHZxTcX"
      },
      "source": [
        "### Your code ###\n",
        "\n",
        "boat_side='Right'\n",
        "missionaries_on_right=3\n",
        "cannibals_on_right=3\n",
        "missionaries_on_left=0\n",
        "cannibals_on_left=0\n",
        "print('\\U0001f482'*missionaries_on_left,'\\U0001f479'*cannibals_on_left,' |\\U0001f30a \\U0001f30a \\U0001f30a \\U0001f30a \\U0001f30a \\U0001f6A2 |','\\U0001f482'*missionaries_on_right,'\\U0001f479'*cannibals_on_right,end=' ')\n",
        "\n",
        "while True:\n",
        "  missionaries=int(input('Enter the no of missionaries on the boat='+boat_side+':'))\n",
        "  cannibals=int(input('Enter the no of cannibals on the boat='+boat_side+':'))\n",
        "  if (missionaries+cannibals!=1) and (missionaries+cannibals!=2):\n",
        "   print('Invalid move 1')\n",
        "   continue\n",
        "\n",
        "  if boat_side=='Right':\n",
        "    print('The current boat side is=',boat_side,end=' ')\n",
        "    if missionaries > missionaries_on_right or cannibals > cannibals_on_right:\n",
        "      print('Invalid move 2')\n",
        "      continue\n",
        "\n",
        "    missionaries_on_left=missionaries_on_left+missionaries\n",
        "    cannibals_on_left=cannibals_on_left+cannibals\n",
        "    missionaries_on_right=missionaries_on_right-missionaries\n",
        "    cannibals_on_right=cannibals_on_right-cannibals\n",
        "\n",
        "    print('\\U0001f482'*missionaries_on_left,'\\U0001f479'*cannibals_on_left, ' |\\U0001f6A2 \\U0001f30a \\U0001f30a \\U0001f30a \\U0001f30a \\U0001f30a|','\\U0001f482'*missionaries_on_right,'\\U0001f479'*cannibals_on_right,end=' ')\n",
        "    boat_side=\"Left\"\n",
        "    if missionaries_on_right<cannibals_on_right and missionaries_on_right>0 or missionaries_on_left<cannibals_on_left and missionaries_on_left>0 :\n",
        "      print('YOU LOSE')\n",
        "      break\n",
        "\n",
        "    if missionaries_on_left==3 and cannibals_on_left==3:\n",
        "      print('YOU WIN')\n",
        "      break\n",
        "\n",
        "  elif boat_side=='Left':\n",
        "    print('The current boat side is=',boat_side,end=' ')\n",
        "\n",
        "    if missionaries > missionaries_on_left or cannibals > cannibals_on_left:\n",
        "      print('Invalid move 2')\n",
        "      continue\n",
        "\n",
        "    missionaries_on_left=missionaries_on_left-missionaries\n",
        "    cannibals_on_left=cannibals_on_left-cannibals\n",
        "    missionaries_on_right=missionaries_on_right+missionaries\n",
        "    cannibals_on_right=cannibals_on_right+cannibals\n",
        "\n",
        "    print('\\U0001f482'*missionaries_on_left,'\\U0001f479'*cannibals_on_left,' |\\U0001f30a \\U0001f30a \\U0001f30a \\U0001f30a \\U0001f30a \\U0001f6A2 |',' \\U0001f482'*missionaries_on_right,' \\U0001f479'*cannibals_on_right,end=' ')\n",
        "    boat_side='Right'\n",
        "\n",
        "    if missionaries_on_right<cannibals_on_right and missionaries_on_right>0 or missionaries_on_left<cannibals_on_left and missionaries_on_left>0 :\n",
        "      print('YOU LOSE')\n",
        "      break\n",
        "\n",
        "    if missionaries_on_left==3 and cannibals_on_left==3:\n",
        "      print('YOU WIN')\n",
        "      break\n",
        "print('GAME OVER')\n",
        "\n",
        "\n",
        "\n",
        "\n",
        "\n",
        "\n",
        "\n",
        "\n",
        "\n",
        "\n",
        "\n"
      ],
      "execution_count": 1,
      "outputs": [
        {
          "output_type": "stream",
          "name": "stdout",
          "text": [
            "   |🌊 🌊 🌊 🌊 🌊 🚢 | 💂💂💂 👹👹👹 Enter the no of missionaries on the boat=Right:0\n",
            "Enter the no of cannibals on the boat=Right:2\n",
            "The current boat side is= Right  👹👹  |🚢 🌊 🌊 🌊 🌊 🌊| 💂💂💂 👹 Enter the no of missionaries on the boat=Left:0\n",
            "Enter the no of cannibals on the boat=Left:1\n",
            "The current boat side is= Left  👹  |🌊 🌊 🌊 🌊 🌊 🚢 |  💂 💂 💂  👹 👹 Enter the no of missionaries on the boat=Right:0\n",
            "Enter the no of cannibals on the boat=Right:1\n",
            "The current boat side is= Right  👹👹  |🚢 🌊 🌊 🌊 🌊 🌊| 💂💂💂 👹 Enter the no of missionaries on the boat=Left:0\n",
            "Enter the no of cannibals on the boat=Left:1\n",
            "The current boat side is= Left  👹  |🌊 🌊 🌊 🌊 🌊 🚢 |  💂 💂 💂  👹 👹 Enter the no of missionaries on the boat=Right:1\n",
            "Enter the no of cannibals on the boat=Right:1\n",
            "The current boat side is= Right 💂 👹👹  |🚢 🌊 🌊 🌊 🌊 🌊| 💂💂 👹 YOU LOSE\n",
            "GAME OVER\n"
          ]
        }
      ]
    },
    {
      "cell_type": "code",
      "source": [],
      "metadata": {
        "id": "7hs-a904UJwY"
      },
      "execution_count": null,
      "outputs": []
    }
  ]
}